{
  "cells": [
    {
      "cell_type": "markdown",
      "metadata": {
        "id": "view-in-github",
        "colab_type": "text"
      },
      "source": [
        "<a href=\"https://colab.research.google.com/github/podo47/Sequential-Pattern-Mining-AprioriAll/blob/main/Sequential_Pattern_Mining_Algorithm.ipynb\" target=\"_parent\"><img src=\"https://colab.research.google.com/assets/colab-badge.svg\" alt=\"Open In Colab\"/></a>"
      ]
    },
    {
      "cell_type": "markdown",
      "source": [
        "# Sequential Pattern Mining : AprioriAll\n",
        "\n"
      ],
      "metadata": {
        "id": "ntUpc2Qfc_N3"
      }
    },
    {
      "cell_type": "markdown",
      "metadata": {
        "id": "Fm0c50qfJh0M"
      },
      "source": [
        "## Import library"
      ]
    },
    {
      "cell_type": "code",
      "execution_count": 1,
      "metadata": {
        "id": "JYJAbLj9JYCK"
      },
      "outputs": [],
      "source": [
        "from itertools import combinations\n",
        "import csv\n",
        "from collections import Counter\n",
        "import pandas as pd"
      ]
    },
    {
      "cell_type": "markdown",
      "metadata": {
        "id": "QRqsHXVlJrDR"
      },
      "source": [
        "## Mount google drive"
      ]
    },
    {
      "cell_type": "code",
      "execution_count": 2,
      "metadata": {
        "colab": {
          "base_uri": "https://localhost:8080/"
        },
        "id": "54RcTCo8JcFU",
        "outputId": "fa467277-be00-4351-ae66-b0a7e931e96e"
      },
      "outputs": [
        {
          "output_type": "stream",
          "name": "stdout",
          "text": [
            "Drive already mounted at /content/drive; to attempt to forcibly remount, call drive.mount(\"/content/drive\", force_remount=True).\n"
          ]
        }
      ],
      "source": [
        "from google.colab import drive\n",
        "drive.mount('/content/drive')"
      ]
    },
    {
      "cell_type": "markdown",
      "metadata": {
        "id": "Ad5bvP5nOLLz"
      },
      "source": [
        "## Calculate support"
      ]
    },
    {
      "cell_type": "code",
      "execution_count": 3,
      "metadata": {
        "id": "tuhz6jLAOLrL"
      },
      "outputs": [],
      "source": [
        "def supports(item,trans):\n",
        "  # Count the frequency of each item\n",
        "  item_freq = dict()\n",
        "  for i in item:\n",
        "    if type(i) is tuple:\n",
        "      set_i = set(i)\n",
        "    else:\n",
        "      set_i = {i}\n",
        "    for j in trans:\n",
        "      for k in j:\n",
        "        if set_i.issubset(k):\n",
        "          if i in item_freq:\n",
        "            item_freq[i] += 1\n",
        "          else:\n",
        "            item_freq[i] = 1\n",
        "  return item_freq"
      ]
    },
    {
      "cell_type": "markdown",
      "metadata": {
        "id": "GuNmbz8w6AKv"
      },
      "source": [
        "## Litemset Phase"
      ]
    },
    {
      "cell_type": "code",
      "execution_count": 4,
      "metadata": {
        "id": "--jh04946G9N"
      },
      "outputs": [],
      "source": [
        "def Litemset(trans_new,min_supp):\n",
        "  item = set()\n",
        "  candidate = list()\n",
        "  count = []\n",
        "  for i in trans_new:\n",
        "    for j in i:\n",
        "      for k in j:\n",
        "        count.append(k)\n",
        "  count = Counter(count)\n",
        "  min_supp = min_supp*len(trans_new)\n",
        "  candidate.append({j[0]:j[1] for j in count.items() if j[1]>min_supp})\n",
        "  for i in count.items():\n",
        "    if i[1]>min_supp:\n",
        "      item.add(i[0])\n",
        "  for i in trans_new:\n",
        "    for j in i:\n",
        "      for k in j.copy():\n",
        "        if k not in item:\n",
        "          j.remove(k)\n",
        "  max_trans_size = len(item)\n",
        "  n = 2\n",
        "  i = 1\n",
        "  while n < max_trans_size:\n",
        "    if len(item)<n:\n",
        "      break\n",
        "    item_combin = combinations(item,n)\n",
        "    supp_combin = supports(item_combin,trans_new)\n",
        "    if list({j[0]:j[1] for j in supp_combin.items() if j[1]>min_supp}) != []:\n",
        "        candidate.append({j[0]:j[1] for j in supp_combin.items() if j[1]>min_supp})\n",
        "    if len(candidate)-1 < i:\n",
        "      break\n",
        "    item_test = set()\n",
        "    for j in candidate[i].keys():\n",
        "      for k in j:\n",
        "        item_test.add(k)\n",
        "    item = item_test\n",
        "    n+=1\n",
        "    i+=1\n",
        "\n",
        "\n",
        "  return candidate"
      ]
    },
    {
      "cell_type": "markdown",
      "metadata": {
        "id": "zzxRPGbVCoiR"
      },
      "source": [
        "## Transformation Phase"
      ]
    },
    {
      "cell_type": "code",
      "execution_count": 5,
      "metadata": {
        "id": "KSJu2pvbCtIG"
      },
      "outputs": [],
      "source": [
        "def Transformation(trans_new,candidate): \n",
        "  map = 1\n",
        "  map_dict = {}\n",
        "  for i in candidate:\n",
        "    for j in i.keys():\n",
        "      if type(j) is tuple:\n",
        "        map_dict[map] = set(j)\n",
        "      else:\n",
        "        map_dict[map] = {j}\n",
        "      map += 1 \n",
        "  trans_map = []\n",
        "  list_of_key = list(map_dict.keys())\n",
        "  list_of_value = list(map_dict.values())\n",
        "\n",
        "  for i in range(len(trans_new)):\n",
        "    seq_map = []\n",
        "    seq = trans_new[i]\n",
        "    for j in range(len(seq)):\n",
        "      ele_set = set()\n",
        "      element = seq[j]\n",
        "      if len(element)>0:\n",
        "        for k in map_dict.values():\n",
        "          if k.issubset(element):\n",
        "            if len(k)>1:\n",
        "              for m in k:\n",
        "                m = {m}\n",
        "                pos = list_of_value.index(m)\n",
        "                val = list_of_key[pos]\n",
        "                ele_set.add(val)\n",
        "              pos = list_of_value.index(k)\n",
        "              val = list_of_key[pos]\n",
        "              ele_set.add(val)\n",
        "            else:\n",
        "              pos = list_of_value.index(k)\n",
        "              val = list_of_key[pos]\n",
        "              ele_set.add(val)\n",
        "      seq_map.append(ele_set)\n",
        "    trans_map.append(seq_map)\n",
        "\n",
        "  for i in trans_map:\n",
        "    for j in i.copy():\n",
        "      if len(j)<1:\n",
        "        i.remove(j)\n",
        "\n",
        "  trans_map = [ i for i in trans_map if i !=[]]\n",
        "\n",
        "  return trans_map,map_dict"
      ]
    },
    {
      "cell_type": "markdown",
      "metadata": {
        "id": "ZmyohrFXO5s4"
      },
      "source": [
        "## Maximal phase"
      ]
    },
    {
      "cell_type": "code",
      "execution_count": 43,
      "metadata": {
        "id": "4JRy2C0JPDkm"
      },
      "outputs": [],
      "source": [
        "def Maximal(sequence,map_dict):\n",
        "  len_seq = len(sequence)\n",
        "  for i in range(len_seq-1,0,-1):\n",
        "    list_of_key = list(sequence[i].keys())\n",
        "    list2_of_key = list(sequence[i-1].keys())\n",
        "    for j in list_of_key:\n",
        "      for k in list2_of_key:\n",
        "        if type(k) is tuple:\n",
        "          if set(k).issubset(set(j)):\n",
        "            sequence[i-1][k] = []\n",
        "        else:\n",
        "          if {k}.issubset(set(j)):\n",
        "            sequence[i-1][k] = []\n",
        "  del sequence[0]\n",
        "  sequence = [ i for i in sequence if i !={}]\n",
        "\n",
        "  result_dict = {}\n",
        "  for i in range(len(sequence)):\n",
        "    for j in sequence[i].items():\n",
        "      result = tuple()\n",
        "      key = j[0]\n",
        "      for k in key:\n",
        "        result += (map_dict[k],)\n",
        "      if j[1] !=[]:\n",
        "        result_dict[str(result)] = j[1]\n",
        "\n",
        "\n",
        "  return result_dict"
      ]
    },
    {
      "cell_type": "markdown",
      "metadata": {
        "id": "N3EFl4rJORL_"
      },
      "source": [
        "## Answer form"
      ]
    },
    {
      "cell_type": "code",
      "execution_count": 52,
      "metadata": {
        "id": "R4iClH-tOwwv"
      },
      "outputs": [],
      "source": [
        "def ans(result_dict):\n",
        "  list_of_key = list(result_dict.keys())\n",
        "  list_of_val = list(result_dict.values())\n",
        "  with open('/content/drive/MyDrive/Data_Mining/Sequential/output.csv', 'w', newline='') as csvfile:\n",
        "    fieldnames = [' pattern','→','Support']\n",
        "    csvfile = csv.writer(csvfile)\n",
        "    csvfile.writerow(fieldnames)\n",
        "    for i in list_of_key:\n",
        "      csvfile.writerow([i,'→',result_dict[i]])\n"
      ]
    },
    {
      "cell_type": "markdown",
      "source": [
        "# Run"
      ],
      "metadata": {
        "id": "CWJvrAIigUPw"
      }
    },
    {
      "cell_type": "markdown",
      "source": [
        "## Input file preprocessing"
      ],
      "metadata": {
        "id": "Z7p3LLmbgh3V"
      }
    },
    {
      "cell_type": "markdown",
      "source": [
        "### Read input"
      ],
      "metadata": {
        "id": "mT-tto9wgjNW"
      }
    },
    {
      "cell_type": "code",
      "source": [
        "path = '/content/drive/MyDrive/Data_Mining/Sequential/seqdata.dat.txt'"
      ],
      "metadata": {
        "id": "uCkH2vvLgr5Q"
      },
      "execution_count": 59,
      "outputs": []
    },
    {
      "cell_type": "markdown",
      "source": [
        "### Modify input format and store in list"
      ],
      "metadata": {
        "id": "V1MuI5LqgmqT"
      }
    },
    {
      "cell_type": "code",
      "source": [
        "trans = []\n",
        "with open(path) as ip:\n",
        "  for line in ip:\n",
        "      sp = line.split()\n",
        "      sp = [int(i) for i in sp]\n",
        "      trans.append(sp)"
      ],
      "metadata": {
        "id": "0lgGDE6HgvOx"
      },
      "execution_count": 60,
      "outputs": []
    },
    {
      "cell_type": "code",
      "source": [
        "for i in range(len(trans)):\n",
        "  del trans[i][0]"
      ],
      "metadata": {
        "id": "raJZgn9rgy8e"
      },
      "execution_count": 61,
      "outputs": []
    },
    {
      "cell_type": "code",
      "source": [
        "trans_new = []\n",
        "for i in range(len(trans)):\n",
        "  cus = trans[i]\n",
        "  half_cus_len = int(len(cus)/2)\n",
        "  id_val = 0\n",
        "  cus_m = []\n",
        "  for j in range(half_cus_len):\n",
        "    id = 2*j\n",
        "    if cus[id] != id_val:\n",
        "      if id == 0:\n",
        "        item_set = {cus[id+1]}\n",
        "        id_val = cus[id]\n",
        "      else:\n",
        "        cus_m.append(item_set)\n",
        "        item_set = {cus[id+1]}\n",
        "        id_val = cus[id]\n",
        "    else:\n",
        "      item_set.add(cus[id+1])\n",
        "  cus_m.append(item_set)\n",
        "  trans_new.append(cus_m)"
      ],
      "metadata": {
        "id": "vgWW7h3Wg1eM"
      },
      "execution_count": 62,
      "outputs": []
    },
    {
      "cell_type": "markdown",
      "metadata": {
        "id": "eIWcdreQOV9j"
      },
      "source": [
        "## Main : Sequential Pattern Mining Algorithm"
      ]
    },
    {
      "cell_type": "code",
      "execution_count": 53,
      "metadata": {
        "id": "DHezQqtD6frS"
      },
      "outputs": [],
      "source": [
        "def Sequential():\n",
        "  min_supp = float(input(\"Please enter min support : \")) # User-defined : 0 < input < 1 - Please enter min support : 0.01\n",
        "  litem = Litemset(trans_new,min_supp)\n",
        "  transform,map_diction = Transformation(trans_new,litem)\n",
        "  sequence = Litemset(transform,min_supp*2)\n",
        "  maxi = Maximal(sequence,map_diction)\n",
        "  answer = ans(maxi)\n",
        "  return maxi"
      ]
    },
    {
      "cell_type": "markdown",
      "source": [
        "# Output"
      ],
      "metadata": {
        "id": "t9fmLDW7hZ3Z"
      }
    },
    {
      "cell_type": "code",
      "source": [
        "test = Sequential() #Please enter min support : 0.01\n",
        "df = pd.read_csv ('/content/drive/MyDrive/Data_Mining/Sequential/output.csv')\n",
        "df"
      ],
      "metadata": {
        "colab": {
          "base_uri": "https://localhost:8080/",
          "height": 443
        },
        "id": "U7yPicDChb9j",
        "outputId": "02a4526d-2232-4918-fa13-f6124d05b8c5"
      },
      "execution_count": 63,
      "outputs": [
        {
          "name": "stdout",
          "output_type": "stream",
          "text": [
            "Please enter min support : 0.01\n"
          ]
        },
        {
          "output_type": "execute_result",
          "data": {
            "text/plain": [
              "                                              pattern  →  Support\n",
              "0                      ({3488}, {1566}, {3488, 1566})  →      326\n",
              "1                      ({5447}, {5493}, {5493, 5447})  →      406\n",
              "2                      ({7160}, {6549}, {7160, 6549})  →      240\n",
              "3                        ({552}, {4811}, {552, 4811})  →      348\n",
              "4                      ({7125}, {2240, 7125}, {2240})  →      318\n",
              "5                      ({8208, 7775}, {7775}, {8208})  →      255\n",
              "6                      ({1946, 4683}, {1946}, {4683})  →      262\n",
              "7                      ({8969, 2652}, {8969}, {2652})  →      349\n",
              "8                      ({2722, 1503}, {2722}, {1503})  →      264\n",
              "9                      ({6312, 1807}, {6312}, {1807})  →      297\n",
              "10                     ({7088, 9126}, {7088}, {9126})  →      566\n",
              "11  ({3308}, {5343}, {3308, 5343}, {7931, 5343}, {...  →      249"
            ],
            "text/html": [
              "\n",
              "  <div id=\"df-7bb237f6-ae73-4fbd-a4df-c1f6954fb013\">\n",
              "    <div class=\"colab-df-container\">\n",
              "      <div>\n",
              "<style scoped>\n",
              "    .dataframe tbody tr th:only-of-type {\n",
              "        vertical-align: middle;\n",
              "    }\n",
              "\n",
              "    .dataframe tbody tr th {\n",
              "        vertical-align: top;\n",
              "    }\n",
              "\n",
              "    .dataframe thead th {\n",
              "        text-align: right;\n",
              "    }\n",
              "</style>\n",
              "<table border=\"1\" class=\"dataframe\">\n",
              "  <thead>\n",
              "    <tr style=\"text-align: right;\">\n",
              "      <th></th>\n",
              "      <th>pattern</th>\n",
              "      <th>→</th>\n",
              "      <th>Support</th>\n",
              "    </tr>\n",
              "  </thead>\n",
              "  <tbody>\n",
              "    <tr>\n",
              "      <th>0</th>\n",
              "      <td>({3488}, {1566}, {3488, 1566})</td>\n",
              "      <td>→</td>\n",
              "      <td>326</td>\n",
              "    </tr>\n",
              "    <tr>\n",
              "      <th>1</th>\n",
              "      <td>({5447}, {5493}, {5493, 5447})</td>\n",
              "      <td>→</td>\n",
              "      <td>406</td>\n",
              "    </tr>\n",
              "    <tr>\n",
              "      <th>2</th>\n",
              "      <td>({7160}, {6549}, {7160, 6549})</td>\n",
              "      <td>→</td>\n",
              "      <td>240</td>\n",
              "    </tr>\n",
              "    <tr>\n",
              "      <th>3</th>\n",
              "      <td>({552}, {4811}, {552, 4811})</td>\n",
              "      <td>→</td>\n",
              "      <td>348</td>\n",
              "    </tr>\n",
              "    <tr>\n",
              "      <th>4</th>\n",
              "      <td>({7125}, {2240, 7125}, {2240})</td>\n",
              "      <td>→</td>\n",
              "      <td>318</td>\n",
              "    </tr>\n",
              "    <tr>\n",
              "      <th>5</th>\n",
              "      <td>({8208, 7775}, {7775}, {8208})</td>\n",
              "      <td>→</td>\n",
              "      <td>255</td>\n",
              "    </tr>\n",
              "    <tr>\n",
              "      <th>6</th>\n",
              "      <td>({1946, 4683}, {1946}, {4683})</td>\n",
              "      <td>→</td>\n",
              "      <td>262</td>\n",
              "    </tr>\n",
              "    <tr>\n",
              "      <th>7</th>\n",
              "      <td>({8969, 2652}, {8969}, {2652})</td>\n",
              "      <td>→</td>\n",
              "      <td>349</td>\n",
              "    </tr>\n",
              "    <tr>\n",
              "      <th>8</th>\n",
              "      <td>({2722, 1503}, {2722}, {1503})</td>\n",
              "      <td>→</td>\n",
              "      <td>264</td>\n",
              "    </tr>\n",
              "    <tr>\n",
              "      <th>9</th>\n",
              "      <td>({6312, 1807}, {6312}, {1807})</td>\n",
              "      <td>→</td>\n",
              "      <td>297</td>\n",
              "    </tr>\n",
              "    <tr>\n",
              "      <th>10</th>\n",
              "      <td>({7088, 9126}, {7088}, {9126})</td>\n",
              "      <td>→</td>\n",
              "      <td>566</td>\n",
              "    </tr>\n",
              "    <tr>\n",
              "      <th>11</th>\n",
              "      <td>({3308}, {5343}, {3308, 5343}, {7931, 5343}, {...</td>\n",
              "      <td>→</td>\n",
              "      <td>249</td>\n",
              "    </tr>\n",
              "  </tbody>\n",
              "</table>\n",
              "</div>\n",
              "      <button class=\"colab-df-convert\" onclick=\"convertToInteractive('df-7bb237f6-ae73-4fbd-a4df-c1f6954fb013')\"\n",
              "              title=\"Convert this dataframe to an interactive table.\"\n",
              "              style=\"display:none;\">\n",
              "        \n",
              "  <svg xmlns=\"http://www.w3.org/2000/svg\" height=\"24px\"viewBox=\"0 0 24 24\"\n",
              "       width=\"24px\">\n",
              "    <path d=\"M0 0h24v24H0V0z\" fill=\"none\"/>\n",
              "    <path d=\"M18.56 5.44l.94 2.06.94-2.06 2.06-.94-2.06-.94-.94-2.06-.94 2.06-2.06.94zm-11 1L8.5 8.5l.94-2.06 2.06-.94-2.06-.94L8.5 2.5l-.94 2.06-2.06.94zm10 10l.94 2.06.94-2.06 2.06-.94-2.06-.94-.94-2.06-.94 2.06-2.06.94z\"/><path d=\"M17.41 7.96l-1.37-1.37c-.4-.4-.92-.59-1.43-.59-.52 0-1.04.2-1.43.59L10.3 9.45l-7.72 7.72c-.78.78-.78 2.05 0 2.83L4 21.41c.39.39.9.59 1.41.59.51 0 1.02-.2 1.41-.59l7.78-7.78 2.81-2.81c.8-.78.8-2.07 0-2.86zM5.41 20L4 18.59l7.72-7.72 1.47 1.35L5.41 20z\"/>\n",
              "  </svg>\n",
              "      </button>\n",
              "      \n",
              "  <style>\n",
              "    .colab-df-container {\n",
              "      display:flex;\n",
              "      flex-wrap:wrap;\n",
              "      gap: 12px;\n",
              "    }\n",
              "\n",
              "    .colab-df-convert {\n",
              "      background-color: #E8F0FE;\n",
              "      border: none;\n",
              "      border-radius: 50%;\n",
              "      cursor: pointer;\n",
              "      display: none;\n",
              "      fill: #1967D2;\n",
              "      height: 32px;\n",
              "      padding: 0 0 0 0;\n",
              "      width: 32px;\n",
              "    }\n",
              "\n",
              "    .colab-df-convert:hover {\n",
              "      background-color: #E2EBFA;\n",
              "      box-shadow: 0px 1px 2px rgba(60, 64, 67, 0.3), 0px 1px 3px 1px rgba(60, 64, 67, 0.15);\n",
              "      fill: #174EA6;\n",
              "    }\n",
              "\n",
              "    [theme=dark] .colab-df-convert {\n",
              "      background-color: #3B4455;\n",
              "      fill: #D2E3FC;\n",
              "    }\n",
              "\n",
              "    [theme=dark] .colab-df-convert:hover {\n",
              "      background-color: #434B5C;\n",
              "      box-shadow: 0px 1px 3px 1px rgba(0, 0, 0, 0.15);\n",
              "      filter: drop-shadow(0px 1px 2px rgba(0, 0, 0, 0.3));\n",
              "      fill: #FFFFFF;\n",
              "    }\n",
              "  </style>\n",
              "\n",
              "      <script>\n",
              "        const buttonEl =\n",
              "          document.querySelector('#df-7bb237f6-ae73-4fbd-a4df-c1f6954fb013 button.colab-df-convert');\n",
              "        buttonEl.style.display =\n",
              "          google.colab.kernel.accessAllowed ? 'block' : 'none';\n",
              "\n",
              "        async function convertToInteractive(key) {\n",
              "          const element = document.querySelector('#df-7bb237f6-ae73-4fbd-a4df-c1f6954fb013');\n",
              "          const dataTable =\n",
              "            await google.colab.kernel.invokeFunction('convertToInteractive',\n",
              "                                                     [key], {});\n",
              "          if (!dataTable) return;\n",
              "\n",
              "          const docLinkHtml = 'Like what you see? Visit the ' +\n",
              "            '<a target=\"_blank\" href=https://colab.research.google.com/notebooks/data_table.ipynb>data table notebook</a>'\n",
              "            + ' to learn more about interactive tables.';\n",
              "          element.innerHTML = '';\n",
              "          dataTable['output_type'] = 'display_data';\n",
              "          await google.colab.output.renderOutput(dataTable, element);\n",
              "          const docLink = document.createElement('div');\n",
              "          docLink.innerHTML = docLinkHtml;\n",
              "          element.appendChild(docLink);\n",
              "        }\n",
              "      </script>\n",
              "    </div>\n",
              "  </div>\n",
              "  "
            ]
          },
          "metadata": {},
          "execution_count": 63
        }
      ]
    }
  ],
  "metadata": {
    "colab": {
      "provenance": [],
      "toc_visible": true,
      "mount_file_id": "1TOIQBCy39grbWvCYmvEAnC2z22uiTo38",
      "authorship_tag": "ABX9TyOw01BJ93DtFWlWMg+X/bz/",
      "include_colab_link": true
    },
    "kernelspec": {
      "display_name": "Python 3",
      "name": "python3"
    },
    "language_info": {
      "name": "python"
    }
  },
  "nbformat": 4,
  "nbformat_minor": 0
}